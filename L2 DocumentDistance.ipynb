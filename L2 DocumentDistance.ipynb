{
 "cells": [
  {
   "cell_type": "markdown",
   "metadata": {},
   "source": [
    "# Model of Computation and Document Distance\n",
    "\n",
    "<a href=\"https://www.youtube.com/watch?v=Zc54gFhdpLA&list=PLUl4u3cNGP61Oq3tWYp6V_F-5jb5L2iHb&index=2\" title=\"2. Model of Computation and Document Distance \"><img src=\"http://i3.ytimg.com/vi/Zc54gFhdpLA/hqdefault.jpg\" alt=\"Model of Computation and Document Distance\" /></a>"
   ]
  },
  {
   "cell_type": "markdown",
   "metadata": {},
   "source": [
    "## Model of Computation\n"
   ]
  },
  {
   "cell_type": "markdown",
   "metadata": {},
   "source": [
    "## Document Distance\n",
    "\n",
    "Given two documents, D1 and D2, find the distance d(D1,D2) between them. The distance can be defined in a number of ways, \n",
    "\n",
    "- For a word 'w' in document D, D[w] is defined as the number of occurences of 'w' in D. Create a vector for both documents D1 and D2\n",
    "- Given both vectors, we compute the distance d(D1,D2) as the following steps:\n",
    "    - d'(D1,D2): Compute the inner product of these vectors\n",
    "        - d'(D1,D2) = sum(D1[w]*D2[w] for all w)\n",
    "        - This works well, but fails when the documents are very long. We can normalize this by dividing it by the lengths of the vectors\n",
    "    - d''(D1,D2) = d'(D1,D2)/(|D1| * |D2|)\n",
    "        - |D| is the length of document D in words\n",
    "        - This is also the cosine of the angle between the two vectors\n",
    "        - If we take the arccos value of d''(D1,D2), we get the angle between the two vector\n",
    "    - d(D1,D2) = arccos(d''(D1,D2))"
   ]
  },
  {
   "cell_type": "code",
   "execution_count": null,
   "metadata": {},
   "outputs": [],
   "source": []
  },
  {
   "cell_type": "code",
   "execution_count": null,
   "metadata": {},
   "outputs": [],
   "source": []
  },
  {
   "cell_type": "markdown",
   "metadata": {},
   "source": [
    "https://github.com/shamikbose/MIT6.006\n",
    "\n",
    "https://github.com/DCtheTall/"
   ]
  }
 ],
 "metadata": {
  "kernelspec": {
   "display_name": "Julia (4 threads) 1.6.4",
   "language": "julia",
   "name": "julia-(4-threads)-1.6"
  },
  "language_info": {
   "file_extension": ".jl",
   "mimetype": "application/julia",
   "name": "julia",
   "version": "1.6.4"
  },
  "toc": {
   "base_numbering": 1,
   "nav_menu": {},
   "number_sections": true,
   "sideBar": true,
   "skip_h1_title": false,
   "title_cell": "Table of Contents",
   "title_sidebar": "Contents",
   "toc_cell": false,
   "toc_position": {},
   "toc_section_display": true,
   "toc_window_display": false
  }
 },
 "nbformat": 4,
 "nbformat_minor": 4
}
