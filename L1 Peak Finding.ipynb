{
 "cells": [
  {
   "cell_type": "markdown",
   "metadata": {},
   "source": [
    "# AlgorithmicThinking: PeakFinding\n",
    "\n",
    "<a href=\"https://www.youtube.com/watch?v=HtSuA80QTyo&list=PLUl4u3cNGP61Oq3tWYp6V_F-5jb5L2iHb&index=2\" title=\"1. Algorithmic Thinking, Peak Finding\"><img src=\"http://i3.ytimg.com/vi/HtSuA80QTyo/hqdefault.jpg\" alt=\"1. Algorithmic Thinking, Peak Finding\" /></a>\n"
   ]
  },
  {
   "cell_type": "code",
   "execution_count": 1,
   "metadata": {},
   "outputs": [],
   "source": [
    "using BenchmarkTools"
   ]
  },
  {
   "cell_type": "markdown",
   "metadata": {},
   "source": [
    "# 1-D Peak Finding\n",
    "\n",
    "Given Array of 'n' numbers (1-indexed), a number nums[i] is defined as a peak if nums[i-1]=<nums[i]>=nums[i+1]\n",
    "\n",
    "Can assume num[0]=num[n]=-inf\n",
    "\n",
    "Return a peak if it exists\n",
    "\n",
    "for eg: Position 2 is a peak if and only if b ≥ a and b ≥ c. Position 9 is a peak if i ≥ h.\n",
    "\n",
    "`a,b,c,d,e,f,g,h,i`\n",
    "\n",
    "`1,2,3,4,5,6,7,8,9`\n",
    "\n",
    "Find peak if it exist.\n",
    "\n",
    "1. Straight forward stepping algorithm that checks each number from left\n",
    "    - Looks at n/2 elements on average, could look at n elements in the worst case $\\Theta(n)$ => gives both lower and upper bound. O() is just upper bound. Algorithm complexity is linear \n",
    "    - How can we lower this complexity?\n",
    "\n",
    "What if we start in the middle and look at n/2 elements\n",
    "\n",
    "2. Recursive algorithm (divide & conquer)\n",
    "    - if a[n/2] < a[n/2-1] then only look at left half, \n",
    "    - elseif a[n/2] < a[n/2+1]then look right hald\n",
    "    - else n/2 position is a peak\n",
    "    - work algorithm does on input of size n : $T(n)  = T(n/2) + \\Theta(1)$ with base case $T(1) =\\Theta(1)$\n",
    "        - where, $\\Theta(1)$ is time to compare a [n/2] neighbors\n",
    "        - $T(n) = \\underset{log_2 n \\text{ times}}{\\Theta(1) + \\dots + \\Theta(1)} = \\Theta(log_2 n)$ \n",
    "    \n",
    "    "
   ]
  },
  {
   "cell_type": "code",
   "execution_count": 2,
   "metadata": {},
   "outputs": [
    {
     "data": {
      "text/plain": [
       "(false, true, false)"
      ]
     },
     "execution_count": 2,
     "metadata": {},
     "output_type": "execute_result"
    }
   ],
   "source": [
    "\"\"\"Test if the index is the peak\"\"\"\n",
    "function isPeak(arr, idx)\n",
    "    idx == 1 && return arr[idx] >= arr[idx+1]\n",
    "    idx == length(arr) && return arr[idx] >= arr[idx-1]\n",
    "    return arr[idx-1] <= arr[idx] >= arr[idx+1]\n",
    "end\n",
    "\n",
    "arr = [1,2,3,4,7,3,5,2,6,7,9,7,2]\n",
    "isPeak(arr, 1), isPeak(arr,5), isPeak(arr,13)"
   ]
  },
  {
   "cell_type": "code",
   "execution_count": 3,
   "metadata": {},
   "outputs": [],
   "source": [
    "using Random\n",
    "Random.seed!(0)\n",
    "numArr = rand(-1000:1000, 10000);"
   ]
  },
  {
   "cell_type": "code",
   "execution_count": 4,
   "metadata": {},
   "outputs": [
    {
     "data": {
      "text/plain": [
       "BenchmarkTools.Trial: 859 samples with 1000 evaluations.\n",
       " Range \u001b[90m(\u001b[39m\u001b[36m\u001b[1mmin\u001b[22m\u001b[39m … \u001b[35mmax\u001b[39m\u001b[90m):  \u001b[39m\u001b[36m\u001b[1m2.920 ns\u001b[22m\u001b[39m … \u001b[35m24.226 ns\u001b[39m  \u001b[90m┊\u001b[39m GC \u001b[90m(\u001b[39mmin … max\u001b[90m): \u001b[39m0.00% … 0.00%\n",
       " Time  \u001b[90m(\u001b[39m\u001b[34m\u001b[1mmedian\u001b[22m\u001b[39m\u001b[90m):     \u001b[39m\u001b[34m\u001b[1m5.518 ns              \u001b[22m\u001b[39m\u001b[90m┊\u001b[39m GC \u001b[90m(\u001b[39mmedian\u001b[90m):    \u001b[39m0.00%\n",
       " Time  \u001b[90m(\u001b[39m\u001b[32m\u001b[1mmean\u001b[22m\u001b[39m ± \u001b[32mσ\u001b[39m\u001b[90m):   \u001b[39m\u001b[32m\u001b[1m5.531 ns\u001b[22m\u001b[39m ± \u001b[32m 2.550 ns\u001b[39m  \u001b[90m┊\u001b[39m GC \u001b[90m(\u001b[39mmean ± σ\u001b[90m):  \u001b[39m0.00% ± 0.00%\n",
       "\n",
       "  \u001b[39m█\u001b[39m \u001b[39m \u001b[39m \u001b[39m \u001b[39m \u001b[39m▂\u001b[39m \u001b[39m \u001b[39m \u001b[39m \u001b[39m \u001b[39m \u001b[39m \u001b[34m▄\u001b[39m\u001b[39m \u001b[39m \u001b[39m \u001b[39m \u001b[39m \u001b[39m \u001b[39m \u001b[39m \u001b[39m \u001b[39m \u001b[39m \u001b[39m▁\u001b[39m \u001b[39m \u001b[39m \u001b[39m \u001b[39m \u001b[39m \u001b[39m \u001b[39m \u001b[39m \u001b[39m \u001b[39m \u001b[39m \u001b[39m \u001b[39m \u001b[39m \u001b[39m \u001b[39m \u001b[39m \u001b[39m \u001b[39m \u001b[39m \u001b[39m \u001b[39m \u001b[39m \u001b[39m \u001b[39m \u001b[39m \u001b[39m \u001b[39m \u001b[39m \u001b[39m \u001b[39m \u001b[39m \n",
       "  \u001b[39m█\u001b[39m▇\u001b[39m▂\u001b[39m▂\u001b[39m▁\u001b[39m▁\u001b[39m█\u001b[39m▅\u001b[39m▁\u001b[39m▂\u001b[39m▁\u001b[39m▁\u001b[39m▁\u001b[39m▁\u001b[34m█\u001b[39m\u001b[39m▁\u001b[39m▅\u001b[39m▃\u001b[39m▂\u001b[39m▁\u001b[39m▁\u001b[39m▁\u001b[39m▁\u001b[39m▁\u001b[39m▂\u001b[39m▆\u001b[39m█\u001b[39m▄\u001b[39m▄\u001b[39m▂\u001b[39m▂\u001b[39m▁\u001b[39m▂\u001b[39m▁\u001b[39m▁\u001b[39m▁\u001b[39m▃\u001b[39m▂\u001b[39m▁\u001b[39m▂\u001b[39m▂\u001b[39m▂\u001b[39m▄\u001b[39m▁\u001b[39m▁\u001b[39m▁\u001b[39m▁\u001b[39m▂\u001b[39m▂\u001b[39m▁\u001b[39m▁\u001b[39m▂\u001b[39m▁\u001b[39m▁\u001b[39m▁\u001b[39m▁\u001b[39m▁\u001b[39m▂\u001b[39m \u001b[39m▃\n",
       "  2.92 ns\u001b[90m        Histogram: frequency by time\u001b[39m        13.5 ns \u001b[0m\u001b[1m<\u001b[22m\n",
       "\n",
       " Memory estimate\u001b[90m: \u001b[39m\u001b[33m0 bytes\u001b[39m, allocs estimate\u001b[90m: \u001b[39m\u001b[33m0\u001b[39m."
      ]
     },
     "execution_count": 4,
     "metadata": {},
     "output_type": "execute_result"
    }
   ],
   "source": [
    "\"\"\"Start at the left and look at all elements until the condition is fulfilled\"\"\"\n",
    "function naivePeakSearch(arr)::Int32\n",
    "    peaks = nothing\n",
    "    for i in eachindex(arr)   # same as 1:length(arr)\n",
    "        if isPeak(arr,i)\n",
    "            return i\n",
    "        end\n",
    "    end\n",
    "end\n",
    "\n",
    "@benchmark naivePeakSearch(numArr)  setup=(numArr=rand(-10000:10000, 1_000_000))  # values in ns, should be higher"
   ]
  },
  {
   "cell_type": "markdown",
   "metadata": {},
   "source": [
    "In the worst caset, the peak might be at the right and we might have to look at all elements. The worse case complexity is $\\Theta(n)$.\n",
    "\n",
    "But generally arrays of numbers are generally are correlated, hence following the increasing or decreasing trend can be a good way to find peaks, it there's only one peak we can find it recursively as follows."
   ]
  },
  {
   "cell_type": "code",
   "execution_count": 5,
   "metadata": {},
   "outputs": [
    {
     "data": {
      "text/plain": [
       "1×5 adjoint(::Vector{Float64}) with eltype Float64:\n",
       " 3.95789  0.649545  -0.927318  0.148113  0.480864"
      ]
     },
     "execution_count": 5,
     "metadata": {},
     "output_type": "execute_result"
    }
   ],
   "source": [
    "using Distributions\n",
    "genRandPeak(n) = rand(TriangularDist(-n,n),n)\n",
    "genRandPeak(5)'"
   ]
  },
  {
   "cell_type": "code",
   "execution_count": 6,
   "metadata": {},
   "outputs": [
    {
     "data": {
      "text/plain": [
       "BenchmarkTools.Trial: 2401 samples with 1000 evaluations.\n",
       " Range \u001b[90m(\u001b[39m\u001b[36m\u001b[1mmin\u001b[22m\u001b[39m … \u001b[35mmax\u001b[39m\u001b[90m):  \u001b[39m\u001b[36m\u001b[1m4.048 ns\u001b[22m\u001b[39m … \u001b[35m124.296 ns\u001b[39m  \u001b[90m┊\u001b[39m GC \u001b[90m(\u001b[39mmin … max\u001b[90m): \u001b[39m0.00% … 0.00%\n",
       " Time  \u001b[90m(\u001b[39m\u001b[34m\u001b[1mmedian\u001b[22m\u001b[39m\u001b[90m):     \u001b[39m\u001b[34m\u001b[1m7.084 ns               \u001b[22m\u001b[39m\u001b[90m┊\u001b[39m GC \u001b[90m(\u001b[39mmedian\u001b[90m):    \u001b[39m0.00%\n",
       " Time  \u001b[90m(\u001b[39m\u001b[32m\u001b[1mmean\u001b[22m\u001b[39m ± \u001b[32mσ\u001b[39m\u001b[90m):   \u001b[39m\u001b[32m\u001b[1m9.873 ns\u001b[22m\u001b[39m ± \u001b[32m  7.377 ns\u001b[39m  \u001b[90m┊\u001b[39m GC \u001b[90m(\u001b[39mmean ± σ\u001b[90m):  \u001b[39m0.00% ± 0.00%\n",
       "\n",
       "  \u001b[39m█\u001b[39m \u001b[39m \u001b[39m \u001b[39m▁\u001b[39m▇\u001b[34m▂\u001b[39m\u001b[39m \u001b[39m \u001b[39m▂\u001b[39m▅\u001b[32m▃\u001b[39m\u001b[39m \u001b[39m \u001b[39m \u001b[39m▄\u001b[39m▃\u001b[39m▂\u001b[39m \u001b[39m \u001b[39m▂\u001b[39m▃\u001b[39m▁\u001b[39m \u001b[39m \u001b[39m▁\u001b[39m▁\u001b[39m \u001b[39m \u001b[39m \u001b[39m \u001b[39m▁\u001b[39m \u001b[39m \u001b[39m \u001b[39m \u001b[39m \u001b[39m \u001b[39m \u001b[39m \u001b[39m \u001b[39m \u001b[39m \u001b[39m \u001b[39m \u001b[39m \u001b[39m \u001b[39m \u001b[39m \u001b[39m \u001b[39m \u001b[39m \u001b[39m \u001b[39m \u001b[39m \u001b[39m \u001b[39m \u001b[39m \u001b[39m \u001b[39m \u001b[39m▁\n",
       "  \u001b[39m█\u001b[39m▅\u001b[39m▁\u001b[39m▁\u001b[39m█\u001b[39m█\u001b[34m█\u001b[39m\u001b[39m▆\u001b[39m▁\u001b[39m█\u001b[39m█\u001b[32m█\u001b[39m\u001b[39m█\u001b[39m▁\u001b[39m▇\u001b[39m█\u001b[39m█\u001b[39m█\u001b[39m▇\u001b[39m█\u001b[39m█\u001b[39m█\u001b[39m█\u001b[39m█\u001b[39m▆\u001b[39m█\u001b[39m█\u001b[39m█\u001b[39m█\u001b[39m▆\u001b[39m█\u001b[39m█\u001b[39m▆\u001b[39m▇\u001b[39m▆\u001b[39m█\u001b[39m▇\u001b[39m▇\u001b[39m▆\u001b[39m▆\u001b[39m▆\u001b[39m█\u001b[39m▃\u001b[39m▄\u001b[39m▆\u001b[39m▆\u001b[39m▆\u001b[39m▅\u001b[39m▁\u001b[39m▁\u001b[39m▆\u001b[39m▇\u001b[39m▆\u001b[39m▅\u001b[39m▁\u001b[39m▁\u001b[39m▄\u001b[39m▃\u001b[39m▅\u001b[39m \u001b[39m█\n",
       "  4.05 ns\u001b[90m      \u001b[39m\u001b[90mHistogram: \u001b[39m\u001b[90m\u001b[1mlog(\u001b[22m\u001b[39m\u001b[90mfrequency\u001b[39m\u001b[90m\u001b[1m)\u001b[22m\u001b[39m\u001b[90m by time\u001b[39m      34.8 ns \u001b[0m\u001b[1m<\u001b[22m\n",
       "\n",
       " Memory estimate\u001b[90m: \u001b[39m\u001b[33m0 bytes\u001b[39m, allocs estimate\u001b[90m: \u001b[39m\u001b[33m0\u001b[39m."
      ]
     },
     "execution_count": 6,
     "metadata": {},
     "output_type": "execute_result"
    }
   ],
   "source": [
    "\"\"\"Recursive Peak Search: Divide and Conquer\n",
    "    Look at n/2, \n",
    "    If nums[n/2]<nums[n/2+1], look right and recurse, \n",
    "    If nums[n/2]<nums[n/2-1], look left and recurse\n",
    "    return nums[n/2]\n",
    "\"\"\"\n",
    "function recursivePeakSearch(arr, lo, hi)::Int32\n",
    "    mid = (lo + hi) ÷ 2\n",
    "    arr[mid] < arr[mid-1] && return recursivePeakSearch(arr, lo, mid)\n",
    "    arr[mid] < arr[mid+1] && return recursivePeakSearch(arr, mid, hi)\n",
    "    return mid\n",
    "end\n",
    "\n",
    "@benchmark recursivePeakSearch(numArr, 0 , length(numArr)) setup=(numArr=genRandPeak(100_000))"
   ]
  },
  {
   "cell_type": "markdown",
   "metadata": {},
   "source": [
    "## 2-D Peak Finding\n",
    "\n",
    "Given a 2-D array Matrix, an element Matrix[i][j] is a hill (or peak) iff\n",
    "\n",
    "- Matrix[i-1, j] <= Matrix[i, j] >= Matrix[i+1, j]\n",
    "- Matrix[i, j-1] <= Matrix[i. j] >= Matrix[i, j+1]"
   ]
  },
  {
   "cell_type": "code",
   "execution_count": 7,
   "metadata": {},
   "outputs": [
    {
     "data": {
      "text/plain": [
       "4×4 Matrix{Int64}:\n",
       "  1   2   3   4\n",
       " 14  13  12  10\n",
       " 15   9  11  18\n",
       " 16  17  19  20"
      ]
     },
     "execution_count": 7,
     "metadata": {},
     "output_type": "execute_result"
    }
   ],
   "source": [
    "arr2d = [1 2 3 4;\n",
    "        14 13 12 10;\n",
    "        15 9 11 18;\n",
    "        16 17 19 20]"
   ]
  },
  {
   "cell_type": "code",
   "execution_count": 8,
   "metadata": {},
   "outputs": [
    {
     "data": {
      "text/plain": [
       "2-element Vector{Any}:\n",
       " (3, 4)\n",
       " (4, 3)"
      ]
     },
     "execution_count": 8,
     "metadata": {},
     "output_type": "execute_result"
    }
   ],
   "source": [
    "\"\"\"Returns neighbours of a cell in a matrix\"\"\"\n",
    "function neighbors1(arr, i, j)\n",
    "    r, c = size(arr)\n",
    "    neighbors = []\n",
    "    for idx in [(i-1,j), (i+1,j),(i,j-1),(i,j+1)]\n",
    "        if !(idx[1] in [0,r+1]) && !(idx[2] in [0,c+1])\n",
    "            push!(neighbors, idx)\n",
    "        end\n",
    "    end\n",
    "    return neighbors\n",
    "end\n",
    "\n",
    "neighbors1(arr2d,4,4)"
   ]
  },
  {
   "cell_type": "code",
   "execution_count": 9,
   "metadata": {},
   "outputs": [
    {
     "data": {
      "text/plain": [
       "4-element Vector{CartesianIndex{2}}:\n",
       " CartesianIndex(3, 2)\n",
       " CartesianIndex(2, 3)\n",
       " CartesianIndex(1, 2)\n",
       " CartesianIndex(2, 1)"
      ]
     },
     "execution_count": 9,
     "metadata": {},
     "output_type": "execute_result"
    }
   ],
   "source": [
    "\"\"\"Returns neighbours of a cell in a matrix\"\"\"\n",
    "function neighbors(arr, idx)\n",
    "    r, c = size(arr)    \n",
    "    neighborIdx = [CartesianIndex(idx)] .+ CartesianIndex.([(1,0),(0,1),(-1,0),(0,-1)])\n",
    "    validIdx = [checkbounds(Bool,arr,idx) for idx in neighborIdx]\n",
    "    # return arr[neighborIdx[validIdx]]\n",
    "    return neighborIdx[validIdx]\n",
    "end\n",
    "\n",
    "neighbors(arr2d, (2,2))"
   ]
  },
  {
   "cell_type": "code",
   "execution_count": 10,
   "metadata": {},
   "outputs": [
    {
     "data": {
      "text/plain": [
       "CartesianIndex(4, 4)"
      ]
     },
     "execution_count": 10,
     "metadata": {},
     "output_type": "execute_result"
    }
   ],
   "source": [
    "\"\"\"Greedy Ascent follows direction of largest increase to find a peak, has Θ(nm) complexity\n",
    "Strategy: Pick arbitrary midpoint, return if peak else choose highest neighbor and repeat\n",
    "\"\"\"\n",
    "function greedyAscent(arr)\n",
    "    idx = CartesianIndex(size(arr).÷2)  # start at midpoint\n",
    "    while true\n",
    "        neighborIdx = neighbors(arr,idx)\n",
    "        all(arr[idx] .> arr[neighborIdx]) && return idx  # current index is peak\n",
    "        idx = neighborIdx[argmax(arr[neighborIdx])]\n",
    "    end\n",
    "    \n",
    "end\n",
    "greedyAscent(arr2d)"
   ]
  },
  {
   "cell_type": "code",
   "execution_count": 11,
   "metadata": {},
   "outputs": [
    {
     "data": {
      "text/plain": [
       "10×10 Matrix{Int64}:\n",
       "  0   7   4  34   9  12  14  29   6  10\n",
       "  7  50  38  46   4  15  11  32   6  31\n",
       " 47  49   9  18  21  36  39   6   0  44\n",
       " 47  40  12  13  13  22  18  41  43  37\n",
       " 42   0   6  44  37  48  11  16  35   3\n",
       " 20  43   8  16  46  14   3  43  21  49\n",
       " 10   3  50  39  13   3  49  48  37   7\n",
       "  1  44  32   5  16   8  24  21   5  20\n",
       " 41  50  24  28   7  34  12  39  38   0\n",
       " 42  32  24  16  39  44   2  30  14  21"
      ]
     },
     "execution_count": 11,
     "metadata": {},
     "output_type": "execute_result"
    }
   ],
   "source": [
    "Random.seed!(10)\n",
    "mat = rand(0:50, 10,10)"
   ]
  },
  {
   "cell_type": "code",
   "execution_count": 12,
   "metadata": {},
   "outputs": [
    {
     "data": {
      "text/plain": [
       "CartesianIndex(5, 6)"
      ]
     },
     "execution_count": 12,
     "metadata": {},
     "output_type": "execute_result"
    }
   ],
   "source": [
    "greedyAscent(mat) # There are other larger peaks as well, which this algo misses"
   ]
  },
  {
   "cell_type": "code",
   "execution_count": 13,
   "metadata": {},
   "outputs": [
    {
     "data": {
      "text/plain": [
       "(4, 4)"
      ]
     },
     "execution_count": 13,
     "metadata": {},
     "output_type": "execute_result"
    }
   ],
   "source": [
    "\"\"\" Divide and Conquer\n",
    "    1. Pick Middle column j =m/2 and find 1-D peak at column and then find 1D peak at row i. But 2D-peak may not exist on row i. as in arr2d below\n",
    "    2. Divide and conquer with Global maximum\n",
    "        1. Pick middle column j = m/2 \n",
    "        2. Find global maximum on column j at (i,j)\n",
    "        3. compare (i,j-1) (i,j), (i,j+1) and peak greater one. if (i,j) is greater, it is a 2D-peak\n",
    "        4. solve the new problem with half number of columns\n",
    "        5. When you have a single column find global maximum\n",
    "\n",
    "Complexity \n",
    "T(n,m) = T(n,m/2) + Θ(n) (finding column max)\n",
    "\n",
    "T(n,m) = log(m) Θ(n) there are log m of Θ(n) operations\n",
    "\n",
    "T(n,m) = Θ(n log(m))\n",
    "\"\"\"\n",
    "function recursive2dpeak(arr, colLo, colHi)\n",
    "    col = (colHi + colLo) ÷ 2\n",
    "    row = argmax(arr[col, :])\n",
    "    colLo == colHi && return row, col\n",
    "    arr[row,col-1] > arr[row,col] && return recursive2dpeak(arr, colLo, col-1)\n",
    "    arr[row,col+1] > arr[row,col] && return recursive2dpeak(arr, col+1, colHi)\n",
    "    return row, col\n",
    "end\n",
    "\n",
    "\n",
    "recursive2dpeak(arr2d, 0, size(arr2d)[2])"
   ]
  },
  {
   "cell_type": "code",
   "execution_count": 14,
   "metadata": {},
   "outputs": [
    {
     "data": {
      "text/plain": [
       "(6, 5)"
      ]
     },
     "execution_count": 14,
     "metadata": {},
     "output_type": "execute_result"
    }
   ],
   "source": [
    "recursive2dpeak(mat, 0, size(mat)[2])"
   ]
  }
 ],
 "metadata": {
  "kernelspec": {
   "display_name": "Julia (4 threads) 1.6.4",
   "language": "julia",
   "name": "julia-(4-threads)-1.6"
  },
  "language_info": {
   "file_extension": ".jl",
   "mimetype": "application/julia",
   "name": "julia",
   "version": "1.6.4"
  },
  "toc": {
   "base_numbering": 1,
   "nav_menu": {},
   "number_sections": true,
   "sideBar": true,
   "skip_h1_title": false,
   "title_cell": "Table of Contents",
   "title_sidebar": "Contents",
   "toc_cell": false,
   "toc_position": {},
   "toc_section_display": true,
   "toc_window_display": false
  }
 },
 "nbformat": 4,
 "nbformat_minor": 4
}
